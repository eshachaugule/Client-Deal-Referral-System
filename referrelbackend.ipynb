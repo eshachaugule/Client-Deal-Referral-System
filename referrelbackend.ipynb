{
 "cells": [
  {
   "cell_type": "code",
   "execution_count": 122,
   "id": "5ff5b616",
   "metadata": {
    "scrolled": true
   },
   "outputs": [
    {
     "name": "stdout",
     "output_type": "stream",
     "text": [
      "Int64Index([92], dtype='int64')\n",
      "            Product        Country Client (Person) Client (Company)  \\\n",
      "92  Pharmaceuticals  United States  Roberta Jensen    Walls-Winters   \n",
      "\n",
      "   Bank Employee Contact  Start Date    End Date Deal Type  \\\n",
      "92        Richard Lester  06-06-2022  04-09-2022   Private   \n",
      "\n",
      "    Company Department    Industry         Region  Client Capacity  \\\n",
      "92  Investment Banking  Healthcare  North America                1   \n",
      "\n",
      "    Experience (Years)  \n",
      "92                  21  \n"
     ]
    },
    {
     "name": "stderr",
     "output_type": "stream",
     "text": [
      "C:\\Users\\Admin\\anaconda3\\lib\\site-packages\\pandas\\core\\indexing.py:1637: SettingWithCopyWarning: \n",
      "A value is trying to be set on a copy of a slice from a DataFrame\n",
      "\n",
      "See the caveats in the documentation: https://pandas.pydata.org/pandas-docs/stable/user_guide/indexing.html#returning-a-view-versus-a-copy\n",
      "  self._setitem_single_block(indexer, value, name)\n"
     ]
    },
    {
     "data": {
      "text/plain": [
       "0"
      ]
     },
     "execution_count": 122,
     "metadata": {},
     "output_type": "execute_result"
    }
   ],
   "source": [
    "import pandas as pd\n",
    "\n",
    "deals = pd.read_csv(\"deals.csv\", index_col = 0)\n",
    "employees = pd.read_csv(\"employees.csv\", index_col = 0)\n",
    "\n",
    "merge1 = pd.concat([pd.merge(deals, employees, left_on = ['Bank Employee Contact'], right_on = ['Employee Name'], how = 'inner')])\n",
    "merge1.drop(\"Designation\", inplace = True, axis = 1)\n",
    "\n",
    "merge = pd.concat([pd.merge(deals, employees, left_on = ['Bank Employee Contact'], right_on = ['Employee Name'], how = 'inner')])\n",
    "\n",
    "\n",
    "merge.drop(\"Country\", inplace = True, axis = 1)\n",
    "merge.drop(\"Designation\", inplace = True, axis = 1)\n",
    "\n",
    "preferred_deal_type = 'Private'\n",
    "merge_after_deal_type_pref = merge[merge[\"Deal Type\"] == preferred_deal_type]\n",
    "    \n",
    "preferred_product = 'Pharmaceuticals'\n",
    "merge_after_product_pref = merge_after_deal_type_pref[merge_after_deal_type_pref[\"Product\"] == preferred_product]\n",
    "\n",
    "preferred_region = 'North America'\n",
    "merge_after_region_pref = merge_after_product_pref[merge_after_product_pref[\"Region\"] == preferred_region]\n",
    "\n",
    "merge_after_sort = merge_after_region_pref.sort_values(by = ['Experience (Years)'], ascending = False)\n",
    "\n",
    "for client in range(len(merge_after_sort.index)):\n",
    "    if(merge_after_sort['Client Capacity'].iloc[client] != 0):\n",
    "        var = merge_after_sort.iloc[[client]]\n",
    "        #print(var)\n",
    "        print(var.index)\n",
    "        print(merge1.iloc[var.index])\n",
    "        merge_after_sort['Client Capacity'].iloc[client] = merge_after_sort['Client Capacity'].iloc[client] - 1\n",
    "        break;\n",
    "        \n",
    "merge_after_sort['Client Capacity'].iloc[client] "
   ]
  },
  {
   "cell_type": "code",
   "execution_count": null,
   "id": "a5ed2836",
   "metadata": {},
   "outputs": [],
   "source": []
  },
  {
   "cell_type": "code",
   "execution_count": null,
   "id": "f53897c4",
   "metadata": {},
   "outputs": [],
   "source": []
  },
  {
   "cell_type": "code",
   "execution_count": null,
   "id": "6741248f",
   "metadata": {},
   "outputs": [],
   "source": []
  }
 ],
 "metadata": {
  "kernelspec": {
   "display_name": "Python 3",
   "language": "python",
   "name": "python3"
  },
  "language_info": {
   "codemirror_mode": {
    "name": "ipython",
    "version": 3
   },
   "file_extension": ".py",
   "mimetype": "text/x-python",
   "name": "python",
   "nbconvert_exporter": "python",
   "pygments_lexer": "ipython3",
   "version": "3.8.8"
  }
 },
 "nbformat": 4,
 "nbformat_minor": 5
}
